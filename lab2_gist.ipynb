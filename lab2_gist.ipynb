{
  "nbformat": 4,
  "nbformat_minor": 0,
  "metadata": {
    "colab": {
      "name": "lab2_gist.ipynb",
      "provenance": [],
      "collapsed_sections": [],
      "authorship_tag": "ABX9TyOJyI6kYx9fSHV03xP11LYo",
      "include_colab_link": true
    },
    "kernelspec": {
      "name": "python3",
      "display_name": "Python 3"
    }
  },
  "cells": [
    {
      "cell_type": "markdown",
      "metadata": {
        "id": "view-in-github",
        "colab_type": "text"
      },
      "source": [
        "<a href=\"https://colab.research.google.com/github/juliya754/python-physics/blob/main/lab2_gist.ipynb\" target=\"_parent\"><img src=\"https://colab.research.google.com/assets/colab-badge.svg\" alt=\"Open In Colab\"/></a>"
      ]
    },
    {
      "cell_type": "code",
      "metadata": {
        "id": "Z5zzMlnEImfJ",
        "colab": {
          "base_uri": "https://localhost:8080/",
          "height": 1000
        },
        "outputId": "4c58b815-2200-44f5-8f93-a3a5362e2feb"
      },
      "source": [
        "\"\"\"\n",
        "Задание #2. Построение гистограммы распределения квадратов собственных частот\n",
        "линейной атомной цепочки с использованием алгоритма из книги Уилкинсона и Райнша.\n",
        "\n",
        "Атомная линейная  цепочка содержит N=1000 атомов. Пронумеровать атомы от 0 до N-1\n",
        "слева направо. В приближении ближайших соседей сформировать динамическую матрицу \n",
        "и рассчитать с использованием алгоритма из книги Уилкинсона и Райнша данные, \n",
        "необходимые для построения гистограммы распределения собственных значений динамической \n",
        "матрицы с постоянным шагом h без использования функций для создания гистограмм из matplotlib.pyplot.\n",
        "Гистограмма должна содержать несколько десятков шагов. Численные значения параметров: $\\gamma$ = 2.5,\n",
        "массы атомов с нечетными номерами равны 1.0, в с четными - равны 2.0 (здесь используются условные единицы).\n",
        "\"\"\"\n",
        "\n",
        "import math\n",
        "import numpy as np\n",
        "from numpy import linalg as LA\n",
        "import matplotlib.pyplot as plt\n",
        "import copy\n",
        "\n",
        "n = 1000\n",
        "\n",
        "# массив, содержащий массы атомов в цепочке (массы атомов с нечетными номерами равны 1.0, с четными - 2.0)\n",
        "M = [1. if i%2==0 else 2. for i in range(n)]\n",
        "\n",
        "gamma = 2.5\n",
        "\n",
        "# функция для формирования динамической матрицы D\n",
        "def calcD(n):\n",
        "  D=np.zeros(n**2).reshape((n, n))\n",
        "  for i in range(n):\n",
        "    for j in range(n):\n",
        "        if i==j:\n",
        "          D[i][j] = 2*gamma\n",
        "        if (i==j==0 or i==j==n):\n",
        "          D[i][j] = gamma\n",
        "        if (i+1==j or i-1==j):\n",
        "          D[i][j] = -gamma\n",
        "        D[i][j] /= math.sqrt(M[i]*M[j])\n",
        "  return D\n",
        "\n",
        "D = calcD(n)\n",
        "\n",
        "# нахождение собственных чисел и векторов матрицы с помощью eig()\n",
        "numbers, vectors = LA.eig(D)\n",
        "\n",
        "# проверка собственных значений на неотрицательность\n",
        "L = open(\"check_result.txt\", \"w\")\n",
        "isNegative = False\n",
        "for el in numbers:\n",
        "  if el < 0:\n",
        "    isNegative = True\n",
        "    print(e,file=L)\n",
        "if isNegative:\n",
        "  print(\"Есть отрицательные собственные значения\",file=L)\n",
        "else:\n",
        "  print(\"Отрицательных собственных значений нет\",file=L)\n",
        "L.close()\n",
        "\n",
        "# расчет шагов и колодцев для построения гистограммы\n",
        "bins = 20\n",
        "step = (np.max(numbers)-np.min(numbers))/bins\n",
        "edges = [i*step+round(np.min(numbers)) for i in range(bins)]\n",
        "\n",
        "res = 0\n",
        "resArray=[]\n",
        "for i in range(len(edges)-1):\n",
        "  for j in numbers:\n",
        "    if edges[i] <= j and edges[i+1] > j:\n",
        "      res += 1\n",
        "  resArray.append(res)\n",
        "  res=0\n",
        "\n",
        "edgesCentres = [i*step+step/2+np.min(numbers) for i in range(bins-1)]\n",
        "\n",
        "# Расчет по алгоритму из книги Уилкинсона и Райнша\n",
        "c = []\n",
        "b = []\n",
        "b.append(0)\n",
        "for i in range(n):\n",
        "  for j in range(n):\n",
        "    if i==j:\n",
        "      c.append(D[i][j])\n",
        "    if i-1==j:\n",
        "      b.append(D[i][j])\n",
        "\n",
        "lambd=len(edges)\n",
        "a = np.zeros(lambd)\n",
        "for l in edges: \n",
        "  p = []\n",
        "  p.append(1)\n",
        "  p.append(c[0]-l)\n",
        "  q = []\n",
        "  q.append(p[0])\n",
        "  q.append(p[1])\n",
        "  for i in range(2,n+1):\n",
        "    p.append((c[i-1]-l)*p[i-1]-b[i-1]**2*p[i-2])\n",
        "    q.append(p[i]*p[i-1])\n",
        "\n",
        "  for j in range(0,n):\n",
        "      if q[j] < 0:\n",
        "        a[edges.index(l)] += 1\n",
        "  p=[]\n",
        "  q=[]\n",
        "    \n",
        "\n",
        "tmp = copy.copy(a)\n",
        "for i in range(len(a)):\n",
        "  #print(\"tmp=\",tmp[i],\", l=\",l,\" edges.index(l) = \", edges.index(l),\" a[edges.index(l)] = \",a[edges.index(l)],\" a[edges.index(l)-1]=\",a[edges.index(l)-1])\n",
        "  a[i] = abs(a[i]-tmp[i-1])\n",
        "\n",
        "\n",
        "\n",
        "# построение гистограммы квадратов распределения собственных частот линейной атомной цепочки\n",
        "fig, ax = plt.subplots(figsize=(11,18), nrows=2, ncols=1)\n",
        "plt.subplots_adjust(wspace=0, hspace=0.3)\n",
        "ax[0].bar(edgesCentres,resArray,align='center')\n",
        "edgesCentresR = [round(el,1) for el in edgesCentres]\n",
        "ax[0].set_xticks(edgesCentres)\n",
        "ax[0].set_ylabel('$G(\\omega^2)$, у.е.')\n",
        "ax[0].set_xlabel('$\\omega^2$, у.е.')\n",
        "ax[0].set_title('Гистограмма распределения квадратов собственных частот \\n линейной атомной цепочки $G(\\omega^2)$')\n",
        "\n",
        "ax[1].bar(edgesCentres,a[1:],align='center')\n",
        "ax[1].set_xticks(edgesCentres)\n",
        "ax[1].set_ylabel('$G(\\omega^2)$, у.е.')\n",
        "ax[1].set_xlabel('$\\omega^2$, у.е.')\n",
        "ax[1].set_title('Гистограмма распределения квадратов собственных частот \\n линейной атомной цепочки $G(\\omega^2)$ \\n по алгоритму из книги Уилкинсона и Райнша')\n",
        "\n",
        "plt.savefig(\"pgf_gist.pdf\")\n",
        "plt.show()\n"
      ],
      "execution_count": null,
      "outputs": [
        {
          "output_type": "stream",
          "text": [
            "/usr/local/lib/python3.7/dist-packages/ipykernel_launcher.py:97: RuntimeWarning: overflow encountered in double_scalars\n",
            "/usr/local/lib/python3.7/dist-packages/ipykernel_launcher.py:96: RuntimeWarning: overflow encountered in double_scalars\n"
          ],
          "name": "stderr"
        },
        {
          "output_type": "display_data",
          "data": {
            "image/png": "[encoded data removed]",
            "text/plain": [
              "<Figure size 792x1296 with 2 Axes>"
            ]
          },
          "metadata": {
            "tags": [],
            "needs_background": "light"
          }
        }
      ]
    },
    {
      "cell_type": "markdown",
      "metadata": {
        "id": "iJEI4dgzs_mt"
      },
      "source": [
        "# New Section"
      ]
    },
    {
      "cell_type": "markdown",
      "metadata": {
        "id": "hhN_NkC2tACc"
      },
      "source": [
        "# New Section"
      ]
    },
    {
      "cell_type": "code",
      "metadata": {
        "colab": {
          "base_uri": "https://localhost:8080/"
        },
        "id": "6Cuq8T-C7VUz",
        "outputId": "4bb51af3-3708-448f-c6a6-e55a8ef58e2a"
      },
      "source": [
        "!ls -l"
      ],
      "execution_count": null,
      "outputs": [
        {
          "output_type": "stream",
          "text": [
            "total 28\n",
            "-rw-r--r-- 1 root root    51 Apr 18 09:34 check_result.txt\n",
            "-rw-r--r-- 1 root root 18159 Apr 18 09:34 pgf_gist.pdf\n",
            "drwxr-xr-x 1 root root  4096 Apr  7 13:36 sample_data\n"
          ],
          "name": "stdout"
        }
      ]
    },
    {
      "cell_type": "code",
      "metadata": {
        "colab": {
          "base_uri": "https://localhost:8080/",
          "height": 17
        },
        "id": "dfWDBlXwQHEV",
        "outputId": "8293f71c-4a21-4ce5-8134-617cc7216f02"
      },
      "source": [
        "from google.colab import files\n",
        "\n",
        "files.download(\"pgf_gist.pdf\")"
      ],
      "execution_count": null,
      "outputs": [
        {
          "output_type": "display_data",
          "data": {
            "application/javascript": [
              "\n",
              "    async function download(id, filename, size) {\n",
              "      if (!google.colab.kernel.accessAllowed) {\n",
              "        return;\n",
              "      }\n",
              "      const div = document.createElement('div');\n",
              "      const label = document.createElement('label');\n",
              "      label.textContent = `Downloading \"${filename}\": `;\n",
              "      div.appendChild(label);\n",
              "      const progress = document.createElement('progress');\n",
              "      progress.max = size;\n",
              "      div.appendChild(progress);\n",
              "      document.body.appendChild(div);\n",
              "\n",
              "      const buffers = [];\n",
              "      let downloaded = 0;\n",
              "\n",
              "      const channel = await google.colab.kernel.comms.open(id);\n",
              "      // Send a message to notify the kernel that we're ready.\n",
              "      channel.send({})\n",
              "\n",
              "      for await (const message of channel.messages) {\n",
              "        // Send a message to notify the kernel that we're ready.\n",
              "        channel.send({})\n",
              "        if (message.buffers) {\n",
              "          for (const buffer of message.buffers) {\n",
              "            buffers.push(buffer);\n",
              "            downloaded += buffer.byteLength;\n",
              "            progress.value = downloaded;\n",
              "          }\n",
              "        }\n",
              "      }\n",
              "      const blob = new Blob(buffers, {type: 'application/binary'});\n",
              "      const a = document.createElement('a');\n",
              "      a.href = window.URL.createObjectURL(blob);\n",
              "      a.download = filename;\n",
              "      div.appendChild(a);\n",
              "      a.click();\n",
              "      div.remove();\n",
              "    }\n",
              "  "
            ],
            "text/plain": [
              "<IPython.core.display.Javascript object>"
            ]
          },
          "metadata": {
            "tags": []
          }
        },
        {
          "output_type": "display_data",
          "data": {
            "application/javascript": [
              "download(\"download_bac8b7ac-f303-4326-880e-5a0f5be40ab4\", \"pgf_gist.pdf\", 22943)"
            ],
            "text/plain": [
              "<IPython.core.display.Javascript object>"
            ]
          },
          "metadata": {
            "tags": []
          }
        }
      ]
    },
    {
      "cell_type": "code",
      "metadata": {
        "colab": {
          "base_uri": "https://localhost:8080/"
        },
        "id": "z7a5q8kB1Qpf",
        "outputId": "5bf223ff-667d-4dc6-b396-35f5f5a7f14d"
      },
      "source": [
        "!cat \"check_result.txt\""
      ],
      "execution_count": null,
      "outputs": [
        {
          "output_type": "stream",
          "text": [
            "Отрицательных значений нет\n"
          ],
          "name": "stdout"
        }
      ]
    }
  ]
}