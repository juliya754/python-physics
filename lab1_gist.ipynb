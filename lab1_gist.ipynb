{
  "nbformat": 4,
  "nbformat_minor": 0,
  "metadata": {
    "colab": {
      "name": "lab1_gist.ipynb",
      "provenance": [],
      "collapsed_sections": []
    },
    "kernelspec": {
      "name": "python3",
      "display_name": "Python 3"
    },
    "language_info": {
      "name": "python"
    }
  },
  "cells": [
    {
      "cell_type": "code",
      "metadata": {
        "colab": {
          "base_uri": "https://localhost:8080/",
          "height": 557
        },
        "id": "s-u6SDi_XzLc",
        "outputId": "27d99fc5-8d18-4718-e2a2-badb1efb75c9"
      },
      "source": [
        "\"\"\"\n",
        "Задание #1. Построение гистограммы распределения квадратов собственных частот линейной атомной цепочки\n",
        "\n",
        "Атомная линейная  цепочка содержит N=1000 атомов. Пронумеровать атомы от 0 до N-1 слева направо.\n",
        "В приближении ближайших соседей сформировать динамическую матрицу и найти все её собственные значения,\n",
        "используя функции eig или eigh. Построить график гистограммы распределения собственных значений динамической\n",
        "матрицы с постоянным шагом h без использования функций для создания гистограмм из matplotlib.pyplot. \n",
        "Гистограмма должна содержать несколько десятков шагов. Численные значения параметров: gamma = 2.5, \n",
        "массы атомов с нечетными номерами равны 1.0, в с четными - равны 2.0 (здесь используются условные единицы).\n",
        "\"\"\"\n",
        "import math\n",
        "import numpy as np\n",
        "from numpy import linalg as LA\n",
        "import matplotlib.pyplot as plt\n",
        "\n",
        "n = 1000\n",
        "\n",
        "# массив, содержащий массы атомов в цепочке (массы атомов с нечетными номерами равны 1.0, в с четными - равны 2.0)\n",
        "M = [1. if i%2==0 else 2. for i in range(n)]\n",
        "\n",
        "gamma = 2.5\n",
        "\n",
        "# функция для формирования динамической матрицы D\n",
        "def calcD(n):\n",
        "  D=np.zeros(n**2).reshape((n, n))\n",
        "  for i in range(n):\n",
        "    for j in range(n):\n",
        "        if i==j:\n",
        "          D[i][j] = 2*gamma\n",
        "        if (i==j==0 or i==j==n):\n",
        "          D[i][j] = gamma\n",
        "        if (i+1==j or i-1==j):\n",
        "          D[i][j] = -gamma\n",
        "        D[i][j] /= math.sqrt(M[i]*M[j])\n",
        "  return D\n",
        "\n",
        "D = calcD(n)\n",
        "print(D)\n",
        "\n",
        "# нахождение собственных чисел и векторов матрицы\n",
        "numbers, vectors = LA.eig(D)\n",
        "\n",
        "# проверка собственных значений на неотрицательность\n",
        "L = open(\"check_result.txt\", \"w\")\n",
        "isNegative = False\n",
        "for el in numbers:\n",
        "  if el < 0:\n",
        "    isNegative = True\n",
        "    print(e,file=L)\n",
        "if isNegative:\n",
        "  print(\"Есть отрицательные собственные значения\",file=L)\n",
        "else:\n",
        "  print(\"Отрицательных собственных значений нет\",file=L)\n",
        "L.close()\n",
        "\n",
        "# расчет шагов и колодцев для построения гистограммы\n",
        "bins = 20\n",
        "step = (np.max(numbers)-np.min(numbers))/bins\n",
        "edges = [i*step+np.min(numbers) for i in range(bins)]\n",
        "\n",
        "res = 0\n",
        "resArray=[]\n",
        "for i in range(len(edges)-1):\n",
        "  for j in numbers:\n",
        "    if edges[i] <= j and edges[i+1] > j:\n",
        "      res += 1\n",
        "  resArray.append(res)\n",
        "  res=0\n",
        "\n",
        "edgesCentres = [i*step+step/2+np.min(numbers) for i in range(bins-1)]\n",
        "\n",
        "# построение гистограммы квадратов распределения собственных частот линейной атомной цепочки\n",
        "fig, ax = plt.subplots()\n",
        "ax.bar(edgesCentres,resArray,align='center')\n",
        "edgesCentresR = [round(el,1) for el in edgesCentres]\n",
        "#ax.set_xticklabels(edgesCentresR)\n",
        "ax.set_ylabel('$G(\\omega^2)$, у.е.')\n",
        "ax.set_xlabel('$\\omega^2$, у.е.')\n",
        "ax.set_title('Гистограмма распределения квадратов собственных частот \\n линейной атомной цепочки $G(\\omega^2)$')\n",
        "plt.savefig(\"pgf_gist.pdf\")\n",
        "plt.show()"
      ],
      "execution_count": null,
      "outputs": [
        {
          "output_type": "stream",
          "text": [
            "[[ 2.5        -1.76776695  0.         ...  0.          0.\n",
            "   0.        ]\n",
            " [-1.76776695  2.5        -1.76776695 ...  0.          0.\n",
            "   0.        ]\n",
            " [ 0.         -1.76776695  5.         ...  0.          0.\n",
            "   0.        ]\n",
            " ...\n",
            " [ 0.          0.          0.         ...  2.5        -1.76776695\n",
            "   0.        ]\n",
            " [ 0.          0.          0.         ... -1.76776695  5.\n",
            "  -1.76776695]\n",
            " [ 0.          0.          0.         ...  0.         -1.76776695\n",
            "   2.5       ]]\n"
          ],
          "name": "stdout"
        },
        {
          "output_type": "display_data",
          "data": {
            "image/png": "[encoded data removed]",
            "text/plain": [
              "<Figure size 432x288 with 1 Axes>"
            ]
          },
          "metadata": {
            "tags": [],
            "needs_background": "light"
          }
        }
      ]
    },
    {
      "cell_type": "code",
      "metadata": {
        "colab": {
          "base_uri": "https://localhost:8080/",
          "height": 17
        },
        "id": "K6eV3yzmbtXU",
        "outputId": "a34c0254-d740-4680-d6a2-926c2f74120d"
      },
      "source": [
        "from google.colab import files\n",
        "\n",
        "files.download(\"pgf_gist.pdf\")"
      ],
      "execution_count": null,
      "outputs": [
        {
          "output_type": "display_data",
          "data": {
            "application/javascript": [
              "\n",
              "    async function download(id, filename, size) {\n",
              "      if (!google.colab.kernel.accessAllowed) {\n",
              "        return;\n",
              "      }\n",
              "      const div = document.createElement('div');\n",
              "      const label = document.createElement('label');\n",
              "      label.textContent = `Downloading \"${filename}\": `;\n",
              "      div.appendChild(label);\n",
              "      const progress = document.createElement('progress');\n",
              "      progress.max = size;\n",
              "      div.appendChild(progress);\n",
              "      document.body.appendChild(div);\n",
              "\n",
              "      const buffers = [];\n",
              "      let downloaded = 0;\n",
              "\n",
              "      const channel = await google.colab.kernel.comms.open(id);\n",
              "      // Send a message to notify the kernel that we're ready.\n",
              "      channel.send({})\n",
              "\n",
              "      for await (const message of channel.messages) {\n",
              "        // Send a message to notify the kernel that we're ready.\n",
              "        channel.send({})\n",
              "        if (message.buffers) {\n",
              "          for (const buffer of message.buffers) {\n",
              "            buffers.push(buffer);\n",
              "            downloaded += buffer.byteLength;\n",
              "            progress.value = downloaded;\n",
              "          }\n",
              "        }\n",
              "      }\n",
              "      const blob = new Blob(buffers, {type: 'application/binary'});\n",
              "      const a = document.createElement('a');\n",
              "      a.href = window.URL.createObjectURL(blob);\n",
              "      a.download = filename;\n",
              "      div.appendChild(a);\n",
              "      a.click();\n",
              "      div.remove();\n",
              "    }\n",
              "  "
            ],
            "text/plain": [
              "<IPython.core.display.Javascript object>"
            ]
          },
          "metadata": {
            "tags": []
          }
        },
        {
          "output_type": "display_data",
          "data": {
            "application/javascript": [
              "download(\"download_7b6d512a-d9f2-4a52-8b9b-311d898e1e7d\", \"pgf_gist.pdf\", 19410)"
            ],
            "text/plain": [
              "<IPython.core.display.Javascript object>"
            ]
          },
          "metadata": {
            "tags": []
          }
        }
      ]
    }
  ]
}